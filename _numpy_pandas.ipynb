{
  "nbformat": 4,
  "nbformat_minor": 0,
  "metadata": {
    "colab": {
      "provenance": [],
      "authorship_tag": "ABX9TyMyjLzub72jPDA0NXZmHKeJ"
    },
    "kernelspec": {
      "name": "python3",
      "display_name": "Python 3"
    },
    "language_info": {
      "name": "python"
    }
  },
  "cells": [
    {
      "cell_type": "markdown",
      "source": [
        "**Написать функицю**\n",
        "\n",
        "$$f(x) = \\log_{32}x^{\\frac{3}{16}} + x^{\\cos{\\frac{\\pi - x}{2-e}}} - \\sin^2\\frac{x}{\\pi}$$"
      ],
      "metadata": {
        "id": "fZ56G2L4ZcJ_"
      }
    },
    {
      "cell_type": "code",
      "execution_count": null,
      "metadata": {
        "id": "R8_E9IwXZSlp"
      },
      "outputs": [],
      "source": [
        "import math"
      ]
    },
    {
      "cell_type": "code",
      "source": [
        "def func(x):\n",
        "\n",
        "  return math.log(math.pow(x, 3 / 16), 32) \\\n",
        "         + math.pow(x, math.cos((math.pi*x) / (2*math.e))) \\\n",
        "         - math.sin(x / math.pi) ** 2\n"
      ],
      "metadata": {
        "id": "gkaUKTY-b5aO"
      },
      "execution_count": null,
      "outputs": []
    },
    {
      "cell_type": "code",
      "source": [
        "func(2.71)"
      ],
      "metadata": {
        "colab": {
          "base_uri": "https://localhost:8080/"
        },
        "id": "-oq1TaBSedsL",
        "outputId": "41e83522-d591-44f4-ed16-1e30ad820d92"
      },
      "execution_count": null,
      "outputs": [
        {
          "output_type": "execute_result",
          "data": {
            "text/plain": [
              "0.4818035253577275"
            ]
          },
          "metadata": {},
          "execution_count": 36
        }
      ]
    },
    {
      "cell_type": "code",
      "source": [
        "def f(x):\n",
        "    return math.log(math.pow(x, 3 / 16), 32) \\\n",
        "           + math.pow(x, math.cos((math.pi * x) / (2 * math.e))) \\\n",
        "           - math.sin(x / math.pi) ** 2"
      ],
      "metadata": {
        "id": "6Af40gKkey-u"
      },
      "execution_count": null,
      "outputs": []
    },
    {
      "cell_type": "code",
      "source": [
        "f(float(input()))"
      ],
      "metadata": {
        "colab": {
          "base_uri": "https://localhost:8080/"
        },
        "id": "5y_pmUBTp1Of",
        "outputId": "9a03f0d1-5376-48f0-ec5f-eaa6ef36bfc7"
      },
      "execution_count": null,
      "outputs": [
        {
          "name": "stdout",
          "output_type": "stream",
          "text": [
            "2.71\n"
          ]
        },
        {
          "output_type": "execute_result",
          "data": {
            "text/plain": [
              "0.4818035253577275"
            ]
          },
          "metadata": {},
          "execution_count": 44
        }
      ]
    },
    {
      "cell_type": "code",
      "source": [
        "def f(x):\n",
        "    return math.log(x ** (3 / 16), 32) \\\n",
        "           + x ** (math.cos((math.pi * x) / (2 * math.e))) \\\n",
        "           - math.sin(x / math.pi) ** 2\n",
        "\n",
        "\n",
        "f(float(input()))\n"
      ],
      "metadata": {
        "colab": {
          "base_uri": "https://localhost:8080/"
        },
        "id": "873HeOz2p3dY",
        "outputId": "22b15187-5f61-4bfa-c23d-f847b69975e6"
      },
      "execution_count": null,
      "outputs": [
        {
          "name": "stdout",
          "output_type": "stream",
          "text": [
            "2.71\n"
          ]
        },
        {
          "output_type": "execute_result",
          "data": {
            "text/plain": [
              "0.4818035253577275"
            ]
          },
          "metadata": {},
          "execution_count": 45
        }
      ]
    }
  ]
}